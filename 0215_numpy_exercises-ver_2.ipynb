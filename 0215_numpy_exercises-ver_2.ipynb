{
 "cells": [
  {
   "cell_type": "markdown",
   "id": "2e056d44",
   "metadata": {},
   "source": [
    "### Use the following code for the questions below:"
   ]
  },
  {
   "cell_type": "code",
   "execution_count": 1,
   "id": "e0b35543",
   "metadata": {},
   "outputs": [],
   "source": [
    "import numpy as np\n",
    "\n",
    "a = np.array([4, 10, 12, 23, -2, -1, 0, 0, 0, -6, 3, -7])"
   ]
  },
  {
   "cell_type": "markdown",
   "id": "f54cacfd",
   "metadata": {},
   "source": [
    "#### 1. How many negative numbers are there?\n"
   ]
  },
  {
   "cell_type": "code",
   "execution_count": 2,
   "id": "761a1aee",
   "metadata": {},
   "outputs": [
    {
     "data": {
      "text/plain": [
       "4"
      ]
     },
     "execution_count": 2,
     "metadata": {},
     "output_type": "execute_result"
    }
   ],
   "source": [
    "len(a[a < 0])"
   ]
  },
  {
   "cell_type": "markdown",
   "id": "80b0e17c",
   "metadata": {},
   "source": [
    "#### 2. How many positive numbers are there?\n"
   ]
  },
  {
   "cell_type": "code",
   "execution_count": 3,
   "id": "09ec30e8",
   "metadata": {},
   "outputs": [
    {
     "data": {
      "text/plain": [
       "5"
      ]
     },
     "execution_count": 3,
     "metadata": {},
     "output_type": "execute_result"
    }
   ],
   "source": [
    "len(a[a > 0])"
   ]
  },
  {
   "cell_type": "code",
   "execution_count": 5,
   "id": "ff360a4a",
   "metadata": {},
   "outputs": [],
   "source": [
    "# 3. How many even positive numbers are there?\n"
   ]
  },
  {
   "cell_type": "code",
   "execution_count": 6,
   "id": "679aa845",
   "metadata": {},
   "outputs": [
    {
     "data": {
      "text/plain": [
       "3"
      ]
     },
     "execution_count": 6,
     "metadata": {},
     "output_type": "execute_result"
    }
   ],
   "source": [
    "len(a[(a > 0) & (a % 2 == 0)])"
   ]
  },
  {
   "cell_type": "markdown",
   "id": "79795fb8",
   "metadata": {},
   "source": [
    "#### 4. If you were to add 3 to each data point, how many positive numbers would there be?\n"
   ]
  },
  {
   "cell_type": "code",
   "execution_count": 8,
   "id": "96953a54",
   "metadata": {},
   "outputs": [
    {
     "data": {
      "text/plain": [
       "10"
      ]
     },
     "execution_count": 8,
     "metadata": {},
     "output_type": "execute_result"
    }
   ],
   "source": [
    "len(a[(a + 3) > 0])"
   ]
  },
  {
   "cell_type": "markdown",
   "id": "d27f8452",
   "metadata": {},
   "source": [
    "#### 5. If you squared each number, what would the new mean and standard deviation be?\n"
   ]
  },
  {
   "cell_type": "code",
   "execution_count": 10,
   "id": "6a8d27e9",
   "metadata": {},
   "outputs": [
    {
     "data": {
      "text/plain": [
       "144.0243035046516"
      ]
     },
     "execution_count": 10,
     "metadata": {},
     "output_type": "execute_result"
    }
   ],
   "source": [
    "(a ** 2).std()"
   ]
  },
  {
   "cell_type": "code",
   "execution_count": 12,
   "id": "86187402",
   "metadata": {},
   "outputs": [
    {
     "data": {
      "text/plain": [
       "74.0"
      ]
     },
     "execution_count": 12,
     "metadata": {},
     "output_type": "execute_result"
    }
   ],
   "source": [
    "(a ** 2).mean()"
   ]
  },
  {
   "cell_type": "markdown",
   "id": "b8b1b687",
   "metadata": {},
   "source": [
    "#### 6. A common statistical operation on a dataset is centering. This means to adjust the data such that the mean of the data is 0. This is done by subtracting the mean from each data point. Center the data set. \n"
   ]
  },
  {
   "cell_type": "code",
   "execution_count": 15,
   "id": "224e701a",
   "metadata": {},
   "outputs": [
    {
     "data": {
      "text/plain": [
       "array([  1.,   7.,   9.,  20.,  -5.,  -4.,  -3.,  -3.,  -3.,  -9.,   0.,\n",
       "       -10.])"
      ]
     },
     "execution_count": 15,
     "metadata": {},
     "output_type": "execute_result"
    }
   ],
   "source": [
    "a_centered = (a - a.mean())\n",
    "a_centered"
   ]
  },
  {
   "cell_type": "markdown",
   "id": "99fda87e",
   "metadata": {},
   "source": [
    "#### 7. Calculate the z-score for each data point. Recall that the z-score is given by: Z = (x-mu)/sigma\n"
   ]
  },
  {
   "cell_type": "code",
   "execution_count": 17,
   "id": "4a5eeead",
   "metadata": {},
   "outputs": [
    {
     "data": {
      "text/plain": [
       "array([ 0.12403473,  0.86824314,  1.11631261,  2.48069469, -0.62017367,\n",
       "       -0.49613894, -0.3721042 , -0.3721042 , -0.3721042 , -1.11631261,\n",
       "        0.        , -1.24034735])"
      ]
     },
     "execution_count": 17,
     "metadata": {},
     "output_type": "execute_result"
    }
   ],
   "source": [
    "z_scores = (a - a.mean()) / a.std()\n",
    "z_scores"
   ]
  },
  {
   "cell_type": "markdown",
   "id": "4152092b",
   "metadata": {},
   "source": [
    "#### 8. Copy the setup and exercise directions from More Numpy Practice into your numpy_exercises.py and add your solutions.\n",
    "\n"
   ]
  },
  {
   "cell_type": "code",
   "execution_count": 18,
   "id": "4e619320",
   "metadata": {},
   "outputs": [],
   "source": [
    "# Setup 1\n",
    "a = [1, 2, 3, 4, 5, 6, 7, 8, 9, 10]"
   ]
  },
  {
   "cell_type": "markdown",
   "id": "47ad4e9c",
   "metadata": {},
   "source": [
    "### Use python's built in functionality/operators to determine the following:"
   ]
  },
  {
   "cell_type": "markdown",
   "id": "bf1e9d0e",
   "metadata": {},
   "source": [
    "#### Exercise 1 - Make a variable called sum_of_a to hold the sum of all the numbers in above list\n"
   ]
  },
  {
   "cell_type": "code",
   "execution_count": 21,
   "id": "c3957782",
   "metadata": {},
   "outputs": [
    {
     "data": {
      "text/plain": [
       "array([ 1,  2,  3,  4,  5,  6,  7,  8,  9, 10])"
      ]
     },
     "execution_count": 21,
     "metadata": {},
     "output_type": "execute_result"
    }
   ],
   "source": [
    "a = np.array(a)\n",
    "a"
   ]
  },
  {
   "cell_type": "code",
   "execution_count": 23,
   "id": "a0fead64",
   "metadata": {},
   "outputs": [
    {
     "data": {
      "text/plain": [
       "55"
      ]
     },
     "execution_count": 23,
     "metadata": {},
     "output_type": "execute_result"
    }
   ],
   "source": [
    "sum_of_a = a.sum()\n",
    "sum_of_a"
   ]
  },
  {
   "cell_type": "markdown",
   "id": "6b3b270d",
   "metadata": {},
   "source": [
    "#### Exercise 2 - Make a variable named min_of_a to hold the minimum of all the numbers in the above list\n"
   ]
  },
  {
   "cell_type": "code",
   "execution_count": 25,
   "id": "9010908a",
   "metadata": {},
   "outputs": [
    {
     "data": {
      "text/plain": [
       "1"
      ]
     },
     "execution_count": 25,
     "metadata": {},
     "output_type": "execute_result"
    }
   ],
   "source": [
    "min_of_a = a.min()\n",
    "min_of_a"
   ]
  },
  {
   "cell_type": "markdown",
   "id": "c4a6ca68",
   "metadata": {},
   "source": [
    "#### Exercise 3 - Make a variable named max_of_a to hold the max number of all the numbers in the above list\n"
   ]
  },
  {
   "cell_type": "code",
   "execution_count": 26,
   "id": "0ee17c2a",
   "metadata": {},
   "outputs": [
    {
     "data": {
      "text/plain": [
       "10"
      ]
     },
     "execution_count": 26,
     "metadata": {},
     "output_type": "execute_result"
    }
   ],
   "source": [
    "max_of_a = a.max()\n",
    "max_of_a"
   ]
  },
  {
   "cell_type": "markdown",
   "id": "6d5f34dc",
   "metadata": {},
   "source": [
    "#### Exercise 4 - Make a variable named mean_of_a to hold the average of all the numbers in the above list\n"
   ]
  },
  {
   "cell_type": "code",
   "execution_count": 28,
   "id": "adb59709",
   "metadata": {},
   "outputs": [
    {
     "data": {
      "text/plain": [
       "5.5"
      ]
     },
     "execution_count": 28,
     "metadata": {},
     "output_type": "execute_result"
    }
   ],
   "source": [
    "mean_of_a = a.mean()\n",
    "mean_of_a"
   ]
  },
  {
   "cell_type": "markdown",
   "id": "14c80510",
   "metadata": {},
   "source": [
    "#### Exercise 5 - Make a variable named product_of_a to hold the product of multiplying all the numbers in the above list together\n"
   ]
  },
  {
   "cell_type": "code",
   "execution_count": 30,
   "id": "875a45c3",
   "metadata": {},
   "outputs": [
    {
     "name": "stdout",
     "output_type": "stream",
     "text": [
      "[      1       2       6      24     120     720    5040   40320  362880\n",
      " 3628800]\n"
     ]
    },
    {
     "data": {
      "text/plain": [
       "3628800"
      ]
     },
     "execution_count": 30,
     "metadata": {},
     "output_type": "execute_result"
    }
   ],
   "source": [
    "product_of_a = a.prod()\n",
    "print(a.cumprod())\n",
    "product_of_a"
   ]
  },
  {
   "cell_type": "markdown",
   "id": "9f74eb4a",
   "metadata": {},
   "source": [
    "#### Exercise 6 - Make a variable named squares_of_a. It should hold each number in a squared like [1, 4, 9, 16, 25...]\n"
   ]
  },
  {
   "cell_type": "code",
   "execution_count": 31,
   "id": "819e3a5e",
   "metadata": {},
   "outputs": [
    {
     "data": {
      "text/plain": [
       "array([  1,   4,   9,  16,  25,  36,  49,  64,  81, 100])"
      ]
     },
     "execution_count": 31,
     "metadata": {},
     "output_type": "execute_result"
    }
   ],
   "source": [
    "squares_of_a = a ** 2\n",
    "squares_of_a"
   ]
  },
  {
   "cell_type": "markdown",
   "id": "2cdd227b",
   "metadata": {},
   "source": [
    "#### Exercise 7 - Make a variable named odds_in_a. It should hold only the odd numbers\n"
   ]
  },
  {
   "cell_type": "code",
   "execution_count": 32,
   "id": "df4a7dae",
   "metadata": {},
   "outputs": [
    {
     "data": {
      "text/plain": [
       "array([1, 3, 5, 7, 9])"
      ]
     },
     "execution_count": 32,
     "metadata": {},
     "output_type": "execute_result"
    }
   ],
   "source": [
    "odds_in_a = a[a % 2 == 1]\n",
    "odds_in_a"
   ]
  },
  {
   "cell_type": "markdown",
   "id": "97a24e25",
   "metadata": {},
   "source": [
    "#### Exercise 8 - Make a variable named evens_in_a. It should hold only the evens.\n"
   ]
  },
  {
   "cell_type": "code",
   "execution_count": 33,
   "id": "d6520a44",
   "metadata": {},
   "outputs": [
    {
     "data": {
      "text/plain": [
       "array([ 2,  4,  6,  8, 10])"
      ]
     },
     "execution_count": 33,
     "metadata": {},
     "output_type": "execute_result"
    }
   ],
   "source": [
    "evens_in_a = a[a % 2 == 0]\n",
    "evens_in_a"
   ]
  },
  {
   "cell_type": "markdown",
   "id": "da9e49c0",
   "metadata": {},
   "source": [
    "### What about life in two dimensions? A list of lists is matrix, a table, a spreadsheet, a chessboard...\n",
    "### Setup 2: Consider what it would take to find the sum, min, max, average, sum, product, and list of squares for this list of two lists.\n"
   ]
  },
  {
   "cell_type": "code",
   "execution_count": 34,
   "id": "45ac93fe",
   "metadata": {},
   "outputs": [],
   "source": [
    "b = [\n",
    "    [3, 4, 5],\n",
    "    [6, 7, 8]\n",
    "]\n"
   ]
  },
  {
   "cell_type": "markdown",
   "id": "cc4acad1",
   "metadata": {},
   "source": [
    "#### Exercise 1 - refactor the following to use numpy. Use sum_of_b as the variable. **Hint, you'll first need to make sure that the \"b\" variable is a numpy array**\n"
   ]
  },
  {
   "cell_type": "code",
   "execution_count": 36,
   "id": "31a70781",
   "metadata": {},
   "outputs": [],
   "source": [
    "b = np.array(b)"
   ]
  },
  {
   "cell_type": "markdown",
   "id": "aca234d7",
   "metadata": {},
   "source": [
    "#### Exercise 2 - refactor the following to use numpy. \n",
    "  "
   ]
  },
  {
   "cell_type": "code",
   "execution_count": 39,
   "id": "b5757c07",
   "metadata": {},
   "outputs": [
    {
     "data": {
      "text/plain": [
       "33"
      ]
     },
     "execution_count": 39,
     "metadata": {},
     "output_type": "execute_result"
    }
   ],
   "source": [
    "sum_of_b = 0\n",
    "for row in b:\n",
    "    sum_of_b += sum(row)\n",
    "sum_of_b"
   ]
  },
  {
   "cell_type": "code",
   "execution_count": 40,
   "id": "a52dae66",
   "metadata": {},
   "outputs": [
    {
     "data": {
      "text/plain": [
       "33"
      ]
     },
     "execution_count": 40,
     "metadata": {},
     "output_type": "execute_result"
    }
   ],
   "source": [
    "b.sum()"
   ]
  },
  {
   "cell_type": "markdown",
   "id": "610e333b",
   "metadata": {},
   "source": [
    "#### Exercise 3 - refactor the following maximum calculation to find the answer with numpy.\n"
   ]
  },
  {
   "cell_type": "code",
   "execution_count": 42,
   "id": "4299574d",
   "metadata": {},
   "outputs": [
    {
     "data": {
      "text/plain": [
       "3"
      ]
     },
     "execution_count": 42,
     "metadata": {},
     "output_type": "execute_result"
    }
   ],
   "source": [
    "min_of_b = min(b[0]) if min(b[0]) <= min(b[1]) else min(b[1]) \n",
    "min_of_b"
   ]
  },
  {
   "cell_type": "code",
   "execution_count": 43,
   "id": "d54f7cc8",
   "metadata": {},
   "outputs": [
    {
     "data": {
      "text/plain": [
       "3"
      ]
     },
     "execution_count": 43,
     "metadata": {},
     "output_type": "execute_result"
    }
   ],
   "source": [
    "b.min()"
   ]
  },
  {
   "cell_type": "markdown",
   "id": "fd30d584",
   "metadata": {},
   "source": [
    "#### Exercise 4 - refactor the following using numpy to find the mean of b\n"
   ]
  },
  {
   "cell_type": "code",
   "execution_count": 44,
   "id": "b2f94e99",
   "metadata": {},
   "outputs": [
    {
     "data": {
      "text/plain": [
       "5.5"
      ]
     },
     "execution_count": 44,
     "metadata": {},
     "output_type": "execute_result"
    }
   ],
   "source": [
    "mean_of_b = (sum(b[0]) + sum(b[1])) / (len(b[0]) + len(b[1]))\n",
    "mean_of_b"
   ]
  },
  {
   "cell_type": "code",
   "execution_count": 45,
   "id": "5335b1d1",
   "metadata": {},
   "outputs": [
    {
     "data": {
      "text/plain": [
       "5.5"
      ]
     },
     "execution_count": 45,
     "metadata": {},
     "output_type": "execute_result"
    }
   ],
   "source": [
    "b.mean()"
   ]
  },
  {
   "cell_type": "markdown",
   "id": "5b00d87e",
   "metadata": {},
   "source": [
    "#### Exercise 5 - refactor the following to use numpy for calculating the product of all numbers multiplied together.\n"
   ]
  },
  {
   "cell_type": "code",
   "execution_count": 46,
   "id": "be1b7908",
   "metadata": {},
   "outputs": [],
   "source": [
    "product_of_b = 1\n",
    "for row in b:\n",
    "    for number in row:\n",
    "        product_of_b *= number"
   ]
  },
  {
   "cell_type": "code",
   "execution_count": 47,
   "id": "60fdd4e2",
   "metadata": {},
   "outputs": [
    {
     "data": {
      "text/plain": [
       "20160"
      ]
     },
     "execution_count": 47,
     "metadata": {},
     "output_type": "execute_result"
    }
   ],
   "source": [
    "b.prod()"
   ]
  },
  {
   "cell_type": "markdown",
   "id": "9e15763e",
   "metadata": {},
   "source": [
    "#### Exercise 6 - refactor the following to use numpy to find the list of squares \n",
    "\n"
   ]
  },
  {
   "cell_type": "code",
   "execution_count": 51,
   "id": "656c5f35",
   "metadata": {},
   "outputs": [],
   "source": [
    "squares_of_b = []\n",
    "for row in b:\n",
    "    for number in row:\n",
    "        squares_of_b.append(number**2)"
   ]
  },
  {
   "cell_type": "code",
   "execution_count": 53,
   "id": "c9d29dcc",
   "metadata": {},
   "outputs": [
    {
     "data": {
      "text/plain": [
       "array([[ 9, 16, 25],\n",
       "       [36, 49, 64]])"
      ]
     },
     "execution_count": 53,
     "metadata": {},
     "output_type": "execute_result"
    }
   ],
   "source": [
    "b ** 2"
   ]
  },
  {
   "cell_type": "markdown",
   "id": "6c9b8a40",
   "metadata": {},
   "source": [
    "#### Exercise 7 - refactor using numpy to determine the odds_in_b\n"
   ]
  },
  {
   "cell_type": "code",
   "execution_count": 56,
   "id": "340ba83f",
   "metadata": {},
   "outputs": [
    {
     "data": {
      "text/plain": [
       "[3, 5, 7]"
      ]
     },
     "execution_count": 56,
     "metadata": {},
     "output_type": "execute_result"
    }
   ],
   "source": [
    "odds_in_b = []\n",
    "for row in b:\n",
    "    for number in row:\n",
    "        if(number % 2 != 0):\n",
    "            odds_in_b.append(number)\n",
    "odds_in_b"
   ]
  },
  {
   "cell_type": "code",
   "execution_count": 55,
   "id": "50d81270",
   "metadata": {},
   "outputs": [
    {
     "data": {
      "text/plain": [
       "array([3, 5, 7])"
      ]
     },
     "execution_count": 55,
     "metadata": {},
     "output_type": "execute_result"
    }
   ],
   "source": [
    "b[b%2 != 0]"
   ]
  },
  {
   "cell_type": "markdown",
   "id": "379f61e7",
   "metadata": {},
   "source": [
    "#### Exercise 8 - refactor the following to use numpy to filter only the even numbers\n"
   ]
  },
  {
   "cell_type": "code",
   "execution_count": 57,
   "id": "25bd269d",
   "metadata": {},
   "outputs": [
    {
     "data": {
      "text/plain": [
       "[4, 6, 8]"
      ]
     },
     "execution_count": 57,
     "metadata": {},
     "output_type": "execute_result"
    }
   ],
   "source": [
    "evens_in_b = []\n",
    "for row in b:\n",
    "    for number in row:\n",
    "        if(number % 2 == 0):\n",
    "            evens_in_b.append(number)\n",
    "evens_in_b"
   ]
  },
  {
   "cell_type": "code",
   "execution_count": 58,
   "id": "2c70e58a",
   "metadata": {},
   "outputs": [
    {
     "data": {
      "text/plain": [
       "array([4, 6, 8])"
      ]
     },
     "execution_count": 58,
     "metadata": {},
     "output_type": "execute_result"
    }
   ],
   "source": [
    "b[b % 2 == 0]"
   ]
  },
  {
   "cell_type": "markdown",
   "id": "23b8fc66",
   "metadata": {},
   "source": [
    "#### Exercise 9 - print out the shape of the array b.\n"
   ]
  },
  {
   "cell_type": "code",
   "execution_count": 59,
   "id": "91286eab",
   "metadata": {},
   "outputs": [
    {
     "data": {
      "text/plain": [
       "(2, 3)"
      ]
     },
     "execution_count": 59,
     "metadata": {},
     "output_type": "execute_result"
    }
   ],
   "source": [
    "b.shape"
   ]
  },
  {
   "cell_type": "markdown",
   "id": "7d7f4c9a",
   "metadata": {},
   "source": [
    "#### Exercise 10 - transpose the array b.\n",
    "\n"
   ]
  },
  {
   "cell_type": "code",
   "execution_count": 60,
   "id": "72841ab4",
   "metadata": {},
   "outputs": [
    {
     "data": {
      "text/plain": [
       "array([[3, 6],\n",
       "       [4, 7],\n",
       "       [5, 8]])"
      ]
     },
     "execution_count": 60,
     "metadata": {},
     "output_type": "execute_result"
    }
   ],
   "source": [
    "b.T"
   ]
  },
  {
   "cell_type": "markdown",
   "id": "48da415a",
   "metadata": {},
   "source": [
    "#### Exercise 11 - reshape the array b to be a single list of 6 numbers. (1 x 6)\n"
   ]
  },
  {
   "cell_type": "code",
   "execution_count": 61,
   "id": "84a1c264",
   "metadata": {},
   "outputs": [
    {
     "data": {
      "text/plain": [
       "array([[3, 4, 5, 6, 7, 8]])"
      ]
     },
     "execution_count": 61,
     "metadata": {},
     "output_type": "execute_result"
    }
   ],
   "source": [
    "b.reshape(1, 6)"
   ]
  },
  {
   "cell_type": "code",
   "execution_count": 62,
   "id": "ef8f5d08",
   "metadata": {},
   "outputs": [
    {
     "data": {
      "text/plain": [
       "array([[3, 4, 5],\n",
       "       [6, 7, 8]])"
      ]
     },
     "execution_count": 62,
     "metadata": {},
     "output_type": "execute_result"
    }
   ],
   "source": [
    "b"
   ]
  },
  {
   "cell_type": "markdown",
   "id": "c3de00a6",
   "metadata": {},
   "source": [
    "#### Exercise 12 - reshape the array b to be a list of 6 lists,  each containing only 1 number (6 x 1)\n",
    "\n"
   ]
  },
  {
   "cell_type": "code",
   "execution_count": 63,
   "id": "6093399a",
   "metadata": {},
   "outputs": [
    {
     "data": {
      "text/plain": [
       "array([[3],\n",
       "       [4],\n",
       "       [5],\n",
       "       [6],\n",
       "       [7],\n",
       "       [8]])"
      ]
     },
     "execution_count": 63,
     "metadata": {},
     "output_type": "execute_result"
    }
   ],
   "source": [
    "b.reshape(6, 1)"
   ]
  },
  {
   "cell_type": "markdown",
   "id": "1e4b58ed",
   "metadata": {},
   "source": [
    "### Setup 3\n"
   ]
  },
  {
   "cell_type": "code",
   "execution_count": 64,
   "id": "cdbf2b4b",
   "metadata": {},
   "outputs": [],
   "source": [
    "c = [\n",
    "    [1, 2, 3],\n",
    "    [4, 5, 6],\n",
    "    [7, 8, 9]\n",
    "]"
   ]
  },
  {
   "cell_type": "markdown",
   "id": "49ebd722",
   "metadata": {},
   "source": [
    "#### HINT, you'll first need to make sure that the \"c\" variable is a numpy array prior to using numpy array methods. Exercise 1 - Find the min, max, sum, and product of c.\n"
   ]
  },
  {
   "cell_type": "code",
   "execution_count": 65,
   "id": "6f4df292",
   "metadata": {},
   "outputs": [],
   "source": [
    "c = np.array(c)"
   ]
  },
  {
   "cell_type": "code",
   "execution_count": 66,
   "id": "a00c5675",
   "metadata": {},
   "outputs": [
    {
     "data": {
      "text/plain": [
       "1"
      ]
     },
     "execution_count": 66,
     "metadata": {},
     "output_type": "execute_result"
    }
   ],
   "source": [
    "c.min()"
   ]
  },
  {
   "cell_type": "code",
   "execution_count": 67,
   "id": "de27ada7",
   "metadata": {},
   "outputs": [
    {
     "data": {
      "text/plain": [
       "9"
      ]
     },
     "execution_count": 67,
     "metadata": {},
     "output_type": "execute_result"
    }
   ],
   "source": [
    "c.max()"
   ]
  },
  {
   "cell_type": "code",
   "execution_count": 68,
   "id": "fd710d98",
   "metadata": {},
   "outputs": [
    {
     "data": {
      "text/plain": [
       "45"
      ]
     },
     "execution_count": 68,
     "metadata": {},
     "output_type": "execute_result"
    }
   ],
   "source": [
    "c.sum()"
   ]
  },
  {
   "cell_type": "code",
   "execution_count": 69,
   "id": "5edb5624",
   "metadata": {},
   "outputs": [
    {
     "data": {
      "text/plain": [
       "362880"
      ]
     },
     "execution_count": 69,
     "metadata": {},
     "output_type": "execute_result"
    }
   ],
   "source": [
    "c.prod()"
   ]
  },
  {
   "cell_type": "markdown",
   "id": "82dca21c",
   "metadata": {},
   "source": [
    "#### Exercise 2 - Determine the standard deviation of c.\n"
   ]
  },
  {
   "cell_type": "code",
   "execution_count": 70,
   "id": "3025a9ce",
   "metadata": {},
   "outputs": [
    {
     "data": {
      "text/plain": [
       "2.581988897471611"
      ]
     },
     "execution_count": 70,
     "metadata": {},
     "output_type": "execute_result"
    }
   ],
   "source": [
    "c.std()"
   ]
  },
  {
   "cell_type": "markdown",
   "id": "395a8683",
   "metadata": {},
   "source": [
    "#### Exercise 3 - Determine the variance of c.\n",
    "\n"
   ]
  },
  {
   "cell_type": "code",
   "execution_count": 71,
   "id": "ef836a85",
   "metadata": {},
   "outputs": [
    {
     "data": {
      "text/plain": [
       "6.666666666666667"
      ]
     },
     "execution_count": 71,
     "metadata": {},
     "output_type": "execute_result"
    }
   ],
   "source": [
    "c.var()"
   ]
  },
  {
   "cell_type": "markdown",
   "id": "2317316e",
   "metadata": {},
   "source": [
    "#### Exercise 4 - Print out the shape of the array c\n"
   ]
  },
  {
   "cell_type": "code",
   "execution_count": 72,
   "id": "e624f22d",
   "metadata": {},
   "outputs": [
    {
     "data": {
      "text/plain": [
       "(3, 3)"
      ]
     },
     "execution_count": 72,
     "metadata": {},
     "output_type": "execute_result"
    }
   ],
   "source": [
    "c.shape"
   ]
  },
  {
   "cell_type": "markdown",
   "id": "d3a85889",
   "metadata": {},
   "source": [
    "#### Exercise 5 - Transpose c and print out transposed result.\n"
   ]
  },
  {
   "cell_type": "code",
   "execution_count": 73,
   "id": "c1a2458c",
   "metadata": {},
   "outputs": [
    {
     "data": {
      "text/plain": [
       "array([[1, 4, 7],\n",
       "       [2, 5, 8],\n",
       "       [3, 6, 9]])"
      ]
     },
     "execution_count": 73,
     "metadata": {},
     "output_type": "execute_result"
    }
   ],
   "source": [
    "c.T"
   ]
  },
  {
   "cell_type": "markdown",
   "id": "d41a9e31",
   "metadata": {},
   "source": [
    "#### Exercise 6 - Get the dot product of the array c with c. \n"
   ]
  },
  {
   "cell_type": "code",
   "execution_count": 74,
   "id": "16686b75",
   "metadata": {},
   "outputs": [
    {
     "data": {
      "text/plain": [
       "array([[ 30,  36,  42],\n",
       "       [ 66,  81,  96],\n",
       "       [102, 126, 150]])"
      ]
     },
     "execution_count": 74,
     "metadata": {},
     "output_type": "execute_result"
    }
   ],
   "source": [
    "c.dot(c)"
   ]
  },
  {
   "cell_type": "markdown",
   "id": "d8c702e4",
   "metadata": {},
   "source": [
    "#### Exercise 7 - Write the code necessary to sum up the result of c times c transposed.  Answer should be 261\n"
   ]
  },
  {
   "cell_type": "code",
   "execution_count": 78,
   "id": "034725eb",
   "metadata": {},
   "outputs": [
    {
     "data": {
      "text/plain": [
       "261"
      ]
     },
     "execution_count": 78,
     "metadata": {},
     "output_type": "execute_result"
    }
   ],
   "source": [
    "(c * (c.T)).sum()"
   ]
  },
  {
   "cell_type": "markdown",
   "id": "21249a49",
   "metadata": {},
   "source": [
    "#### Exercise 8 - Write the code necessary to determine the product of c times c transposed.  Answer should be 131681894400.\n"
   ]
  },
  {
   "cell_type": "code",
   "execution_count": 79,
   "id": "5c53cb65",
   "metadata": {},
   "outputs": [
    {
     "data": {
      "text/plain": [
       "131681894400"
      ]
     },
     "execution_count": 79,
     "metadata": {},
     "output_type": "execute_result"
    }
   ],
   "source": [
    "(c * c.T).prod()"
   ]
  },
  {
   "cell_type": "markdown",
   "id": "3eeec1cb",
   "metadata": {},
   "source": [
    "### Setup 4\n"
   ]
  },
  {
   "cell_type": "code",
   "execution_count": 80,
   "id": "8408ff1d",
   "metadata": {},
   "outputs": [],
   "source": [
    "d = [\n",
    "    [90, 30, 45, 0, 120, 180],\n",
    "    [45, -90, -30, 270, 90, 0],\n",
    "    [60, 45, -45, 90, -45, 180]\n",
    "]\n",
    "d = np.array(d)"
   ]
  },
  {
   "cell_type": "markdown",
   "id": "274c62f2",
   "metadata": {},
   "source": [
    "#### Exercise 1 - Find the sine of all the numbers in d\n"
   ]
  },
  {
   "cell_type": "code",
   "execution_count": 81,
   "id": "0563bc59",
   "metadata": {},
   "outputs": [
    {
     "data": {
      "text/plain": [
       "array([[ 0.89399666, -0.98803162,  0.85090352,  0.        ,  0.58061118,\n",
       "        -0.80115264],\n",
       "       [ 0.85090352, -0.89399666,  0.98803162, -0.17604595,  0.89399666,\n",
       "         0.        ],\n",
       "       [-0.30481062,  0.85090352, -0.85090352,  0.89399666, -0.85090352,\n",
       "        -0.80115264]])"
      ]
     },
     "execution_count": 81,
     "metadata": {},
     "output_type": "execute_result"
    }
   ],
   "source": [
    "np.sin(d)"
   ]
  },
  {
   "cell_type": "markdown",
   "id": "4a2c35ea",
   "metadata": {},
   "source": [
    "#### Exercise 2 - Find the cosine of all the numbers in d\n"
   ]
  },
  {
   "cell_type": "code",
   "execution_count": 82,
   "id": "cd25f348",
   "metadata": {},
   "outputs": [
    {
     "data": {
      "text/plain": [
       "array([[-0.44807362,  0.15425145,  0.52532199,  1.        ,  0.81418097,\n",
       "        -0.59846007],\n",
       "       [ 0.52532199, -0.44807362,  0.15425145,  0.98438195, -0.44807362,\n",
       "         1.        ],\n",
       "       [-0.95241298,  0.52532199,  0.52532199, -0.44807362,  0.52532199,\n",
       "        -0.59846007]])"
      ]
     },
     "execution_count": 82,
     "metadata": {},
     "output_type": "execute_result"
    }
   ],
   "source": [
    "np.cos(d)"
   ]
  },
  {
   "cell_type": "markdown",
   "id": "4c84cadf",
   "metadata": {},
   "source": [
    "#### Exercise 3 - Find the tangent of all the numbers in d\n"
   ]
  },
  {
   "cell_type": "code",
   "execution_count": 83,
   "id": "4e2bab67",
   "metadata": {},
   "outputs": [
    {
     "data": {
      "text/plain": [
       "array([[-1.99520041, -6.4053312 ,  1.61977519,  0.        ,  0.71312301,\n",
       "         1.33869021],\n",
       "       [ 1.61977519,  1.99520041,  6.4053312 , -0.17883906, -1.99520041,\n",
       "         0.        ],\n",
       "       [ 0.32004039,  1.61977519, -1.61977519, -1.99520041, -1.61977519,\n",
       "         1.33869021]])"
      ]
     },
     "execution_count": 83,
     "metadata": {},
     "output_type": "execute_result"
    }
   ],
   "source": [
    "np.tan(d)"
   ]
  },
  {
   "cell_type": "markdown",
   "id": "2287f1e0",
   "metadata": {},
   "source": [
    "#### Exercise 4 - Find all the negative numbers in d\n"
   ]
  },
  {
   "cell_type": "code",
   "execution_count": 84,
   "id": "725d90a8",
   "metadata": {},
   "outputs": [
    {
     "data": {
      "text/plain": [
       "array([ 90,  30,  45, 120, 180,  45, 270,  90,  60,  45,  90, 180])"
      ]
     },
     "execution_count": 84,
     "metadata": {},
     "output_type": "execute_result"
    }
   ],
   "source": [
    "d [d > 0]"
   ]
  },
  {
   "cell_type": "markdown",
   "id": "7acc54af",
   "metadata": {},
   "source": [
    "#### Exercise 5 - Find all the positive numbers in d\n"
   ]
  },
  {
   "cell_type": "code",
   "execution_count": 85,
   "id": "0134168c",
   "metadata": {},
   "outputs": [
    {
     "data": {
      "text/plain": [
       "array([-90, -30, -45, -45])"
      ]
     },
     "execution_count": 85,
     "metadata": {},
     "output_type": "execute_result"
    }
   ],
   "source": [
    "d [d < 0]"
   ]
  },
  {
   "cell_type": "markdown",
   "id": "30e84246",
   "metadata": {},
   "source": [
    "#### Exercise 6 - Return an array of only the unique numbers in d.\n"
   ]
  },
  {
   "cell_type": "code",
   "execution_count": 89,
   "id": "be4e8564",
   "metadata": {},
   "outputs": [
    {
     "data": {
      "text/plain": [
       "array([-90, -45, -30,   0,  30,  45,  60,  90, 120, 180, 270])"
      ]
     },
     "execution_count": 89,
     "metadata": {},
     "output_type": "execute_result"
    }
   ],
   "source": [
    "np.unique(d)"
   ]
  },
  {
   "cell_type": "markdown",
   "id": "c0c3ce7a",
   "metadata": {},
   "source": [
    "#### Exercise 7 - Determine how many unique numbers there are in d.\n"
   ]
  },
  {
   "cell_type": "code",
   "execution_count": 87,
   "id": "97273e81",
   "metadata": {},
   "outputs": [
    {
     "data": {
      "text/plain": [
       "11"
      ]
     },
     "execution_count": 87,
     "metadata": {},
     "output_type": "execute_result"
    }
   ],
   "source": [
    "len(np.unique(d))"
   ]
  },
  {
   "cell_type": "markdown",
   "id": "d21afec4",
   "metadata": {},
   "source": [
    "#### Exercise 8 - Print out the shape of d.\n"
   ]
  },
  {
   "cell_type": "code",
   "execution_count": 90,
   "id": "d6ef6858",
   "metadata": {},
   "outputs": [
    {
     "data": {
      "text/plain": [
       "(3, 6)"
      ]
     },
     "execution_count": 90,
     "metadata": {},
     "output_type": "execute_result"
    }
   ],
   "source": [
    "d.shape"
   ]
  },
  {
   "cell_type": "markdown",
   "id": "c6426c45",
   "metadata": {},
   "source": [
    "#### Exercise 9 - Transpose and then print out the shape of d.\n"
   ]
  },
  {
   "cell_type": "code",
   "execution_count": 91,
   "id": "20db5e08",
   "metadata": {},
   "outputs": [
    {
     "name": "stdout",
     "output_type": "stream",
     "text": [
      "[[ 90  45  60]\n",
      " [ 30 -90  45]\n",
      " [ 45 -30 -45]\n",
      " [  0 270  90]\n",
      " [120  90 -45]\n",
      " [180   0 180]]\n"
     ]
    }
   ],
   "source": [
    "print(d.T)"
   ]
  },
  {
   "cell_type": "code",
   "execution_count": 93,
   "id": "edd0fc78",
   "metadata": {},
   "outputs": [
    {
     "data": {
      "text/plain": [
       "array([[ 90,  45,  60],\n",
       "       [ 30, -90,  45],\n",
       "       [ 45, -30, -45],\n",
       "       [  0, 270,  90],\n",
       "       [120,  90, -45],\n",
       "       [180,   0, 180]])"
      ]
     },
     "execution_count": 93,
     "metadata": {},
     "output_type": "execute_result"
    }
   ],
   "source": [
    "d.T"
   ]
  },
  {
   "cell_type": "markdown",
   "id": "86b17c67",
   "metadata": {},
   "source": [
    "#### Exercise 10 - Reshape d into an array of 9 x 2"
   ]
  },
  {
   "cell_type": "code",
   "execution_count": 94,
   "id": "bc9a4fec",
   "metadata": {},
   "outputs": [
    {
     "data": {
      "text/plain": [
       "array([[ 90,  30],\n",
       "       [ 45,   0],\n",
       "       [120, 180],\n",
       "       [ 45, -90],\n",
       "       [-30, 270],\n",
       "       [ 90,   0],\n",
       "       [ 60,  45],\n",
       "       [-45,  90],\n",
       "       [-45, 180]])"
      ]
     },
     "execution_count": 94,
     "metadata": {},
     "output_type": "execute_result"
    }
   ],
   "source": [
    "d.reshape(9, 2)"
   ]
  },
  {
   "cell_type": "code",
   "execution_count": 202,
   "id": "24beb6f9",
   "metadata": {},
   "outputs": [
    {
     "name": "stdout",
     "output_type": "stream",
     "text": [
      "[[ 90  30]\n",
      " [ 45   0]\n",
      " [120 180]\n",
      " [ 45 -90]\n",
      " [-30 270]\n",
      " [ 90   0]\n",
      " [ 60  45]\n",
      " [-45  90]\n",
      " [-45 180]]\n"
     ]
    }
   ],
   "source": [
    "print(d.reshape(9, 2))"
   ]
  }
 ],
 "metadata": {
  "kernelspec": {
   "display_name": "Python 3 (ipykernel)",
   "language": "python",
   "name": "python3"
  },
  "language_info": {
   "codemirror_mode": {
    "name": "ipython",
    "version": 3
   },
   "file_extension": ".py",
   "mimetype": "text/x-python",
   "name": "python",
   "nbconvert_exporter": "python",
   "pygments_lexer": "ipython3",
   "version": "3.9.13"
  }
 },
 "nbformat": 4,
 "nbformat_minor": 5
}
